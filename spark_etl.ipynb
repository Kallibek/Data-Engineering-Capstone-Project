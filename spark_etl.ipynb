{
 "cells": [
  {
   "cell_type": "markdown",
   "id": "fundamental-yugoslavia",
   "metadata": {},
   "source": [
    "# Spark ELT"
   ]
  },
  {
   "cell_type": "code",
   "execution_count": 13,
   "id": "sharing-lyric",
   "metadata": {},
   "outputs": [
    {
     "data": {
      "application/vnd.jupyter.widget-view+json": {
       "model_id": "96faad2628124e9baf88e704c0b78c12",
       "version_major": 2,
       "version_minor": 0
      },
      "text/plain": [
       "VBox()"
      ]
     },
     "metadata": {},
     "output_type": "display_data"
    },
    {
     "data": {
      "application/vnd.jupyter.widget-view+json": {
       "model_id": "",
       "version_major": 2,
       "version_minor": 0
      },
      "text/plain": [
       "FloatProgress(value=0.0, bar_style='info', description='Progress:', layout=Layout(height='25px', width='50%'),…"
      ]
     },
     "metadata": {},
     "output_type": "display_data"
    }
   ],
   "source": [
    "from pyspark.sql import SparkSession\n",
    "import os\n",
    "from pyspark.sql.types import StructType,StructField, StringType, IntegerType, DoubleType, DateType, FloatType\n",
    "from pyspark.sql.functions import *\n",
    "\n",
    "spark = SparkSession \\\n",
    "        .builder \\\n",
    "        .config(\"spark.jars.packages\", \"org.apache.hadoop:hadoop-aws:2.7.0\") \\\n",
    "        .getOrCreate()\n",
    "\n",
    "sc = spark.sparkContext\n",
    "\n",
    "raw_data_s3_dir=\"s3://kallibek-data-engineering-capstone-proj/raw_data/\"\n",
    "output_s3_dir=\"s3://kallibek-data-engineering-capstone-proj/output/\""
   ]
  },
  {
   "cell_type": "code",
   "execution_count": 14,
   "id": "artistic-sapphire",
   "metadata": {},
   "outputs": [
    {
     "data": {
      "application/vnd.jupyter.widget-view+json": {
       "model_id": "ede511c6530f457884ea02ebf339677c",
       "version_major": 2,
       "version_minor": 0
      },
      "text/plain": [
       "VBox()"
      ]
     },
     "metadata": {},
     "output_type": "display_data"
    },
    {
     "data": {
      "application/vnd.jupyter.widget-view+json": {
       "model_id": "",
       "version_major": 2,
       "version_minor": 0
      },
      "text/plain": [
       "FloatProgress(value=0.0, bar_style='info', description='Progress:', layout=Layout(height='25px', width='50%'),…"
      ]
     },
     "metadata": {},
     "output_type": "display_data"
    },
    {
     "name": "stdout",
     "output_type": "stream",
     "text": [
      "Package already installed for current Spark context!"
     ]
    }
   ],
   "source": [
    "try:\n",
    "    sc.install_pypi_package(\"pandas==0.25.1\")\n",
    "    import pandas as pd\n",
    "    pd.set_option('display.max_columns', None)\n",
    "except Exception as e:\n",
    "    print(e)"
   ]
  },
  {
   "cell_type": "code",
   "execution_count": 15,
   "id": "manual-computer",
   "metadata": {},
   "outputs": [
    {
     "data": {
      "application/vnd.jupyter.widget-view+json": {
       "model_id": "17cc579f964e49b28243359616544632",
       "version_major": 2,
       "version_minor": 0
      },
      "text/plain": [
       "VBox()"
      ]
     },
     "metadata": {},
     "output_type": "display_data"
    },
    {
     "data": {
      "application/vnd.jupyter.widget-view+json": {
       "model_id": "",
       "version_major": 2,
       "version_minor": 0
      },
      "text/plain": [
       "FloatProgress(value=0.0, bar_style='info', description='Progress:', layout=Layout(height='25px', width='50%'),…"
      ]
     },
     "metadata": {},
     "output_type": "display_data"
    }
   ],
   "source": [
    "# a function to print 5 rows of a function \n",
    "def quality_check(df):\n",
    "    \"\"\"\n",
    "    Prints five rows of a dataframe.\n",
    "    Then, checks count of rows.\n",
    "    If rows<1 raises an exception\n",
    "    \n",
    "    Input: df - pyspark DataFrame object\n",
    "    \"\"\"\n",
    "    row_count=df.count()\n",
    "    print(df.limit(5).toPandas())\n",
    "    if row_count<1:\n",
    "        raise Exception(\"Datafrane has no rows\")\n",
    "    print('count of rows: ', row_count)\n",
    "    "
   ]
  },
  {
   "cell_type": "markdown",
   "id": "searching-damages",
   "metadata": {},
   "source": [
    "# 1. Load data from S3"
   ]
  },
  {
   "cell_type": "markdown",
   "id": "armed-journalist",
   "metadata": {},
   "source": [
    "## 1.1 Load NYC Vehicle Collisions"
   ]
  },
  {
   "cell_type": "code",
   "execution_count": 16,
   "id": "congressional-marketing",
   "metadata": {},
   "outputs": [
    {
     "data": {
      "application/vnd.jupyter.widget-view+json": {
       "model_id": "2420f77b2f2d46758c2815d75ad9e61e",
       "version_major": 2,
       "version_minor": 0
      },
      "text/plain": [
       "VBox()"
      ]
     },
     "metadata": {},
     "output_type": "display_data"
    },
    {
     "data": {
      "application/vnd.jupyter.widget-view+json": {
       "model_id": "",
       "version_major": 2,
       "version_minor": 0
      },
      "text/plain": [
       "FloatProgress(value=0.0, bar_style='info', description='Progress:', layout=Layout(height='25px', width='50%'),…"
      ]
     },
     "metadata": {},
     "output_type": "display_data"
    }
   ],
   "source": [
    "s3_path_collisions=os.path.join(raw_data_s3_dir, 'vehicle_crash_data/vehicle_crash_data.csv')\n",
    "collisions_df = spark.read.format(\"csv\").option(\"header\", \"true\").option(\"mode\", \"DROPMALFORMED\").load(s3_path_collisions)"
   ]
  },
  {
   "cell_type": "code",
   "execution_count": 17,
   "id": "applicable-nutrition",
   "metadata": {},
   "outputs": [
    {
     "data": {
      "application/vnd.jupyter.widget-view+json": {
       "model_id": "41edbbc47722497f8e978064497038da",
       "version_major": 2,
       "version_minor": 0
      },
      "text/plain": [
       "VBox()"
      ]
     },
     "metadata": {},
     "output_type": "display_data"
    },
    {
     "data": {
      "application/vnd.jupyter.widget-view+json": {
       "model_id": "",
       "version_major": 2,
       "version_minor": 0
      },
      "text/plain": [
       "FloatProgress(value=0.0, bar_style='info', description='Progress:', layout=Layout(height='25px', width='50%'),…"
      ]
     },
     "metadata": {},
     "output_type": "display_data"
    },
    {
     "name": "stdout",
     "output_type": "stream",
     "text": [
      "  Collision_ID            Datetime Zipcode            Coordinates  Injured  \\\n",
      "0      4403352 2021-03-29 18:00:00   11221  (40.69173, -73.93517)        0   \n",
      "1      4402851 2021-03-29 22:02:00    None                   None        2   \n",
      "2      4402444 2021-03-28 14:20:00    None                   None        1   \n",
      "3      4402463 2021-03-27 15:52:00    None                   None        0   \n",
      "4      4401984 2021-03-26 15:20:00    None                   None        1   \n",
      "\n",
      "   Killed  Year  Month  \n",
      "0       0  2021      3  \n",
      "1       0  2021      3  \n",
      "2       0  2021      3  \n",
      "3       0  2021      3  \n",
      "4       0  2021      3  \n",
      "count of rows:  1766640"
     ]
    }
   ],
   "source": [
    "# Select certain columns and rename them.\n",
    "# Add Year and Month columns to partition later on\n",
    "collisions_df2 = collisions_df.select(col(\"COLLISION_ID\").alias(\"Collision_ID\"),\n",
    "                                      to_timestamp(concat_ws(' ',col(\"CRASH DATE\"),col(\"CRASH TIME\")),'MM/dd/yyyy HH:mm').alias(\"Datetime\"),\n",
    "                                     col(\"ZIP CODE\").alias(\"Zipcode\"),\n",
    "                                      col(\"LOCATION\").alias(\"Coordinates\"),\n",
    "                                      col(\"NUMBER OF PERSONS INJURED\").cast(IntegerType()).alias(\"Injured\"),\n",
    "                                      col(\"NUMBER OF PERSONS KILLED\").cast(IntegerType()).alias(\"Killed\")\n",
    "                                     )\\\n",
    "                                .withColumn(\"Year\", year(col(\"Datetime\")))\\\n",
    "                                .withColumn(\"Month\", month(col(\"Datetime\")))\n",
    "quality_check(collisions_df2)"
   ]
  },
  {
   "cell_type": "markdown",
   "id": "neutral-today",
   "metadata": {},
   "source": [
    "## 1.2. Load weather data and filter data for Central Park Weather Station"
   ]
  },
  {
   "cell_type": "code",
   "execution_count": 18,
   "id": "adopted-apollo",
   "metadata": {},
   "outputs": [
    {
     "data": {
      "application/vnd.jupyter.widget-view+json": {
       "model_id": "f495f906526f4b57b197986b71f50286",
       "version_major": 2,
       "version_minor": 0
      },
      "text/plain": [
       "VBox()"
      ]
     },
     "metadata": {},
     "output_type": "display_data"
    },
    {
     "data": {
      "application/vnd.jupyter.widget-view+json": {
       "model_id": "",
       "version_major": 2,
       "version_minor": 0
      },
      "text/plain": [
       "FloatProgress(value=0.0, bar_style='info', description='Progress:', layout=Layout(height='25px', width='50%'),…"
      ]
     },
     "metadata": {},
     "output_type": "display_data"
    },
    {
     "name": "stdout",
     "output_type": "stream",
     "text": [
      "         Date Param  Value\n",
      "0  2020-01-01  TMAX   50.0\n",
      "1  2020-01-01  TMIN   11.0\n",
      "2  2020-01-01  PRCP    0.0\n",
      "3  2020-01-01  SNOW    0.0\n",
      "4  2020-01-01  SNWD    0.0\n",
      "count of rows:  4678"
     ]
    }
   ],
   "source": [
    "s3_path_weather_data=os.path.join(raw_data_s3_dir,'weather_by_year/*.csv.gz')\n",
    "weather_df= spark.read.format(\"csv\").option(\"sep\", \",\").option(\"header\", \"false\").load(s3_path_weather_data)\n",
    "\n",
    "# Select certain columns and rename them.\n",
    "# Filter Central Park Weather Station (\"USW00094728\")\n",
    "# Filter non-null date values\n",
    "weather_df2=weather_df.select(col(\"_c0\").alias(\"Station_ID\"),\n",
    "                             to_date(col(\"_c1\"),'yyyyMMdd').alias(\"Date\"),\n",
    "                             col(\"_c2\").alias(\"Param\"),\n",
    "                             col(\"_c3\").cast(FloatType()).alias(\"Value\"))\\\n",
    "                        .filter(col(\"Station_ID\")==\"USW00094728\")\\\n",
    "                        .filter(col(\"Date\").isNotNull())\\\n",
    "                        .drop(\"Station_ID\")\n",
    "\n",
    "quality_check(weather_df2)"
   ]
  },
  {
   "cell_type": "markdown",
   "id": "cross-premium",
   "metadata": {},
   "source": [
    "# 2. Transform data"
   ]
  },
  {
   "cell_type": "markdown",
   "id": "specialized-young",
   "metadata": {},
   "source": [
    "## 2.1. Summary of NYC vehicle accidents by date"
   ]
  },
  {
   "cell_type": "code",
   "execution_count": 19,
   "id": "tight-shock",
   "metadata": {},
   "outputs": [
    {
     "data": {
      "application/vnd.jupyter.widget-view+json": {
       "model_id": "ded4981e92734c1c9c60232151e07933",
       "version_major": 2,
       "version_minor": 0
      },
      "text/plain": [
       "VBox()"
      ]
     },
     "metadata": {},
     "output_type": "display_data"
    },
    {
     "data": {
      "application/vnd.jupyter.widget-view+json": {
       "model_id": "",
       "version_major": 2,
       "version_minor": 0
      },
      "text/plain": [
       "FloatProgress(value=0.0, bar_style='info', description='Progress:', layout=Layout(height='25px', width='50%'),…"
      ]
     },
     "metadata": {},
     "output_type": "display_data"
    },
    {
     "name": "stdout",
     "output_type": "stream",
     "text": [
      "         Date  Collisions  Injured  Killed\n",
      "0  2021-03-29         184       75       0\n",
      "1  2021-03-28         144       56       0\n",
      "2  2021-03-27         272      165       1\n",
      "3  2021-03-26         302      143       0\n",
      "4  2021-03-25         231       90       0\n",
      "count of rows:  3195"
     ]
    }
   ],
   "source": [
    "# Aggregate collisions table by date, \n",
    "# summaurize by count of Collisions, sum of Injured and Killed.\n",
    "# Order by descending Date\n",
    "collisions_daily_summary=collisions_df2.groupBy(to_date(col(\"Datetime\")).cast(\"date\").alias(\"Date\"))\\\n",
    "                                .agg(count(\"Collision_ID\").alias(\"Collisions\"),\n",
    "                                     sum(\"Injured\").alias(\"Injured\"),\n",
    "                                     sum(\"Killed\").alias(\"Killed\"))\\\n",
    "                                .orderBy(col(\"Date\").desc())\n",
    "quality_check(collisions_daily_summary)"
   ]
  },
  {
   "cell_type": "markdown",
   "id": "frank-hydrogen",
   "metadata": {},
   "source": [
    "## 2.2. Extract columns from crashes data to create time_table"
   ]
  },
  {
   "cell_type": "code",
   "execution_count": 20,
   "id": "supposed-cookie",
   "metadata": {},
   "outputs": [
    {
     "data": {
      "application/vnd.jupyter.widget-view+json": {
       "model_id": "501a3fb33fec44659a3375882e202fad",
       "version_major": 2,
       "version_minor": 0
      },
      "text/plain": [
       "VBox()"
      ]
     },
     "metadata": {},
     "output_type": "display_data"
    },
    {
     "data": {
      "application/vnd.jupyter.widget-view+json": {
       "model_id": "",
       "version_major": 2,
       "version_minor": 0
      },
      "text/plain": [
       "FloatProgress(value=0.0, bar_style='info', description='Progress:', layout=Layout(height='25px', width='50%'),…"
      ]
     },
     "metadata": {},
     "output_type": "display_data"
    },
    {
     "name": "stdout",
     "output_type": "stream",
     "text": [
      "             DATETIME  hour  day  week  month  year  weekday\n",
      "0 2019-03-10 00:10:00     0   10    10      3  2019        1\n",
      "1 2019-02-24 15:15:00    15   24     8      2  2019        1\n",
      "2 2019-03-05 12:40:00    12    5    10      3  2019        3\n",
      "3 2019-03-15 15:13:00    15   15    11      3  2019        6\n",
      "4 2019-02-20 17:10:00    17   20     8      2  2019        4\n",
      "count of rows:  911777"
     ]
    }
   ],
   "source": [
    "# Exract components from \n",
    "time_table = collisions_df2.select('DATETIME').filter(col('DATETIME').isNotNull()) \\\n",
    "                           .withColumn('hour', hour(col('DATETIME'))) \\\n",
    "                           .withColumn('day', dayofmonth(col('DATETIME'))) \\\n",
    "                           .withColumn('week', weekofyear(col('DATETIME'))) \\\n",
    "                           .withColumn('month', month(col('DATETIME'))) \\\n",
    "                           .withColumn('year', year(col('DATETIME'))) \\\n",
    "                           .withColumn('weekday', dayofweek(col('DATETIME'))) \\\n",
    "                           .dropDuplicates()\n",
    "\n",
    "quality_check(time_table)"
   ]
  },
  {
   "cell_type": "markdown",
   "id": "authorized-booking",
   "metadata": {},
   "source": [
    "## 2.3. Reshape weather data"
   ]
  },
  {
   "cell_type": "markdown",
   "id": "analyzed-origin",
   "metadata": {},
   "source": [
    "Filter main weather params"
   ]
  },
  {
   "cell_type": "markdown",
   "id": "median-weekly",
   "metadata": {},
   "source": [
    "\n",
    "PRCP = Precipitation (tenths of mm) <br>\n",
    "SNOW = Snowfall (mm) <br>\n",
    "SNWD = Snow depth (mm) <br>\n",
    "TMAX = Maximum temperature (tenths of degrees C) <br>\n",
    "TMIN = Minimum temperature (tenths of degrees C) <br>"
   ]
  },
  {
   "cell_type": "code",
   "execution_count": 21,
   "id": "forced-impact",
   "metadata": {},
   "outputs": [
    {
     "data": {
      "application/vnd.jupyter.widget-view+json": {
       "model_id": "9fdfca8a7661403282fae833ef58c38d",
       "version_major": 2,
       "version_minor": 0
      },
      "text/plain": [
       "VBox()"
      ]
     },
     "metadata": {},
     "output_type": "display_data"
    },
    {
     "data": {
      "application/vnd.jupyter.widget-view+json": {
       "model_id": "",
       "version_major": 2,
       "version_minor": 0
      },
      "text/plain": [
       "FloatProgress(value=0.0, bar_style='info', description='Progress:', layout=Layout(height='25px', width='50%'),…"
      ]
     },
     "metadata": {},
     "output_type": "display_data"
    },
    {
     "name": "stdout",
     "output_type": "stream",
     "text": [
      "         Date  PRCP  SNOW  SNWD  TMAX  TMIN\n",
      "0  2021-04-02   0.0   0.0   0.0   3.9  -2.2\n",
      "1  2021-04-01   8.0   0.0   0.0  14.4   3.3\n",
      "2  2021-03-31  89.0   0.0   0.0  19.4  10.0\n",
      "3  2021-03-30   0.0   0.0   0.0  16.1   5.6\n",
      "4  2021-03-29   0.0   0.0   0.0  12.8   7.2\n",
      "count of rows:  458"
     ]
    }
   ],
   "source": [
    "# filter main weather parameters\n",
    "weather_df3=weather_df2.filter(col(\"Param\").isin([\"PRCP\",\"SNOW\",\"SNWD\",\"TMAX\",\"TMIN\"]))\n",
    "\n",
    "# Pivot weather table\n",
    "weather_df4=weather_df3.groupBy(\"Date\").pivot(\"Param\").sum(\"Value\")\n",
    "\n",
    "# Convert TMIN and TMAX from tenths-of-degrees C to C\n",
    "weather_df5=weather_df4.withColumn(\"TMAX\", col(\"TMAX\")/10).withColumn(\"TMIN\", col(\"TMIN\")/10).orderBy(col(\"Date\").desc())\n",
    "quality_check(weather_df5)"
   ]
  },
  {
   "cell_type": "markdown",
   "id": "metallic-jordan",
   "metadata": {},
   "source": [
    "# 3. Joins for analytics"
   ]
  },
  {
   "cell_type": "code",
   "execution_count": 25,
   "id": "toxic-dayton",
   "metadata": {},
   "outputs": [
    {
     "data": {
      "application/vnd.jupyter.widget-view+json": {
       "model_id": "c7f98e62180b475da5ad34e3f6f93b96",
       "version_major": 2,
       "version_minor": 0
      },
      "text/plain": [
       "VBox()"
      ]
     },
     "metadata": {},
     "output_type": "display_data"
    },
    {
     "data": {
      "application/vnd.jupyter.widget-view+json": {
       "model_id": "",
       "version_major": 2,
       "version_minor": 0
      },
      "text/plain": [
       "FloatProgress(value=0.0, bar_style='info', description='Progress:', layout=Layout(height='25px', width='50%'),…"
      ]
     },
     "metadata": {},
     "output_type": "display_data"
    },
    {
     "name": "stdout",
     "output_type": "stream",
     "text": [
      "+----------+-------+------+----------+-----+----+----+----+----+\n",
      "|Collisions|Injured|Killed|      Date| PRCP|SNOW|SNWD|TMAX|TMIN|\n",
      "+----------+-------+------+----------+-----+----+----+----+----+\n",
      "|       184|     75|     0|2021-03-29|  0.0| 0.0| 0.0|12.8| 7.2|\n",
      "|       144|     56|     0|2021-03-28|193.0| 0.0| 0.0|15.6| 8.9|\n",
      "|       272|    165|     1|2021-03-27|  0.0| 0.0| 0.0|20.6|10.0|\n",
      "|       302|    143|     0|2021-03-26| 48.0| 0.0| 0.0|27.8|11.1|\n",
      "|       231|     90|     0|2021-03-25|  3.0| 0.0| 0.0|20.0| 9.4|\n",
      "+----------+-------+------+----------+-----+----+----+----+----+\n",
      "only showing top 5 rows"
     ]
    }
   ],
   "source": [
    "# join collisions daily summary and weather data\n",
    "collisions_n_weather_byDate = collisions_daily_summary.join(\n",
    "    weather_df5,weather_df5.Date==collisions_daily_summary.Date, \n",
    "    how=\"inner\"\n",
    "    ).orderBy(weather_df5.Date.desc())\\\n",
    "    .drop(collisions_daily_summary.Date)\n",
    "    \n",
    "collisions_n_weather_byDate.show(5)"
   ]
  },
  {
   "cell_type": "markdown",
   "id": "according-medline",
   "metadata": {},
   "source": [
    "# 4. Load to S3"
   ]
  },
  {
   "cell_type": "code",
   "execution_count": 26,
   "id": "alternative-campaign",
   "metadata": {},
   "outputs": [
    {
     "data": {
      "application/vnd.jupyter.widget-view+json": {
       "model_id": "bf30a270884646a2aeaca667e734fa14",
       "version_major": 2,
       "version_minor": 0
      },
      "text/plain": [
       "VBox()"
      ]
     },
     "metadata": {},
     "output_type": "display_data"
    },
    {
     "data": {
      "application/vnd.jupyter.widget-view+json": {
       "model_id": "",
       "version_major": 2,
       "version_minor": 0
      },
      "text/plain": [
       "FloatProgress(value=0.0, bar_style='info', description='Progress:', layout=Layout(height='25px', width='50%'),…"
      ]
     },
     "metadata": {},
     "output_type": "display_data"
    }
   ],
   "source": [
    "# collisions daily summary and weather by date\n",
    "collisions_n_weather_byDate.write.csv(os.path.join(output_s3_dir, 'collisions_n_weather_byDate.csv'), 'overwrite')\n",
    "\n",
    "# collisions\n",
    "collisions_df2.write.partitionBy(\"Year\",\"Month\") \\\n",
    "                     .parquet(os.path.join(output_s3_dir, 'collisions.csv'), 'overwrite')\n",
    "\n",
    "# time_table\n",
    "time_table.write.partitionBy(\"year\",\"month\") \\\n",
    "                     .parquet(os.path.join(output_s3_dir, 'time/time.parquet'), 'overwrite')"
   ]
  },
  {
   "cell_type": "code",
   "execution_count": 24,
   "id": "given-surfing",
   "metadata": {},
   "outputs": [
    {
     "data": {
      "application/vnd.jupyter.widget-view+json": {
       "model_id": "b4f49664741f48c981e785602ecdf8de",
       "version_major": 2,
       "version_minor": 0
      },
      "text/plain": [
       "VBox()"
      ]
     },
     "metadata": {},
     "output_type": "display_data"
    },
    {
     "data": {
      "application/vnd.jupyter.widget-view+json": {
       "model_id": "",
       "version_major": 2,
       "version_minor": 0
      },
      "text/plain": [
       "FloatProgress(value=0.0, bar_style='info', description='Progress:', layout=Layout(height='25px', width='50%'),…"
      ]
     },
     "metadata": {},
     "output_type": "display_data"
    }
   ],
   "source": [
    "# weather\n",
    "weather_df5.write.csv(os.path.join(output_s3_dir, 'weather_daily.csv'), 'overwrite')"
   ]
  }
 ],
 "metadata": {
  "kernelspec": {
   "display_name": "PySpark",
   "language": "",
   "name": "pysparkkernel"
  },
  "language_info": {
   "codemirror_mode": {
    "name": "python",
    "version": 2
   },
   "mimetype": "text/x-python",
   "name": "pyspark",
   "pygments_lexer": "python2"
  }
 },
 "nbformat": 4,
 "nbformat_minor": 5
}
